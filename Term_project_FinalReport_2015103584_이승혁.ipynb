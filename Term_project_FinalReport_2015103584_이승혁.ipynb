{
 "cells": [
  {
   "cell_type": "markdown",
   "metadata": {},
   "source": [
    "# 해외직구 쇼핑 도우미"
   ]
  },
  {
   "cell_type": "markdown",
   "metadata": {},
   "source": [
    "                                                                                                                2015103584 이승혁\n",
    "                                                                                                               "
   ]
  },
  {
   "cell_type": "markdown",
   "metadata": {},
   "source": [
    "## 1. 목표 및 내용"
   ]
  },
  {
   "cell_type": "markdown",
   "metadata": {},
   "source": [
    "프로그램 한 번의 실행으로 소비지가 원하는 브랜드의 상품들을 여러 사이트에서 볼 수 있는 편리함을 누리는 것이 이번 프로젝트의 목표이다. 평소에 해외직구를 자주하는 입장으로서 사이트마다 접속해서 해당 브랜드의 악세사리나 옷을 찾고 맘에 드는 것이 있다면 더 싼 가격을 찾곤한다. 가격을 떠나서 레어한 상품이 있는 지 확인하기 위해서 여러 직구사이트(딜러)들을 창을 열고닫고 하는 것이 일반적이다. 그럴 때마다 메뉴를 누르고 카테고리를 선택하는 반복적인 과정이 필요한데, 시간이 다소 소요될 뿐 아니라, 피로감도 나도 모르게 누적되기 마련이었다. 이를 조금이라도 해소할 수 있기 위하여 이번 프로젝트를 실행해보게 되었다. 단기 프로젝트이기 때문에 근사한 모습은 갖추기 어렵겠지만, 해외 구매를 자주하는 소비자들에게는 꽤 유용하고 의미있는 소소한 프로그램이 될 것이다.  \n",
    "프로그램을 실행하면 유저는 브랜드와 카테고리(의류, 악세사리, 슈즈, 가방 등)을 선택하게 되고 이후 브라우징 버튼을 누르면 세계적으로 주요한 브랜드 부티크 샵 사이트(편집샵)들이 한 창에 여러 개의 탭으로 한 번에 뜰 수 있게되는 것이 본 프로젝트의 내용이다. 이를 통해 얻을 수 있는 효과는, 시간의 단축과, 일일히 딜러들을 찾아야하는 번거로움을 줄일 수 있는 것이다.\n",
    "### 목표 : 프로그램 사용자는 브랜드와 카테고리만 선택하면 모든 직구사이트의 해당 페이지를 한 번에 열 수 있다"
   ]
  },
  {
   "cell_type": "markdown",
   "metadata": {},
   "source": [
    "## 2. 주제 선정 및 변경 이유"
   ]
  },
  {
   "cell_type": "markdown",
   "metadata": {},
   "source": [
    "처음에는 인스타그램 크롤링을 이용한 패션 트렌드 분석을 하고자 계획을 세웠었다. 하지만 작업을 하다보니 여러가지 이유들로 계획을 바꿀 수 밖에 없었다. 가장 우선적으로, 전체적인 코드를 짜는데에 있어서 배우지 않은 생소한 모듈들 정말 많이 필요했기에 내가 온전히 주도적으로 코드를 짜기에 적절하지 않다고 생각했다. 모듈마다의 메소드를 하나하나 익히고 자유자재로 사용하기에는 한계가 있었다. 그보다 더 컸던 문제점은 해쉬태그의 한계점이었다. 코드의 조건들을 세우기 위해 가장 먼저 프로그램이 아닌 손으로 직접 몇 개의 해시태그를 검색해보았다. 그 결과, 단순히 팔로워 숫자를 늘리거나 검색에 자주 노출되기 위함으로 의미없는 브랜드 태그 나열을 해놓은 게시물들이 수없이 많았다. 필터링을 고려해보았지만 경우의 수가 너무 많았기 때문에 결과가 큰 의미가 없을 것으로 예상했다. 따라서 계획을 변경하기로 결정했다.  \n",
    "관세청에 따르면, 최근 5년동안 해외직구의 규모는 평균적으로 매년 40%씩 증가하고 있다. 접근성이 편리해진 직구 전문 사이트들이 많이 생겨남에 따라 소비자 입장에서는 국내 쇼핑몰을 둘러보듯이 쉬워진 일이 되었다. Matchesfashion, END, Farfetch, MYTHERESA 등의 부띠끄 직구 사이트가 급부상하고 있다. 사이트가 다양해지면서, 가격비교를 위해 같은 브랜드라도 여러 개의 사이트들을 열고 닫고 하는 불편함이 존재하기 시작했다. 시간이 점점 더 소요하게 되며 피로감도 증가함을 느꼈다. 이를 해결하기 위해, 두세번만의 클릭으로 쉽게 상품을 찾을 수 있는 쇼퍼(쇼핑도우미) 프로그램을 만들면 정말 의미있고 유용할 것이다. 주변의 여러 쇼퍼홀릭 지인들에게 설문을 한 결과, 괜찮은 반응을 얻을 수 있어서 진행을 하기로 결정을 했다."
   ]
  },
  {
   "cell_type": "markdown",
   "metadata": {},
   "source": [
    "## 3. 데이터 획득"
   ]
  },
  {
   "attachments": {
    "image.png": {
     "image/png": "[encoded data removed]"
    }
   },
   "cell_type": "markdown",
   "metadata": {},
   "source": [
    "본 프로젝트에서 웹으로부터 데이터를 가져오는 일이 큰 비중을 차지하지는 않는다. 다만, 브랜드 리스트를 가져오기 위해 각 사이트마다의 designers 탭에서 읽어오는 과정이 존재한다. 몇 개의 사이트들로부터 브랜드를 읽어온 뒤, 공통적인 브랜드들로만 추려서 사용자에게 제공할 리스트를 만들 계획이다. Catchfashion이라는 사이트에서는, 여러 개의 직구사이트들을 종합해서 가격비교 서비스를 제공하는데 이곳에서의 인기 브랜드가 되는 것은 공통적으로 적용되는 인기일 것이므로 주요 브랜드는 여기서 크롤링하는 것이 효율적일 것이다. 사용될 라이브러리는 BeautifulSoup, Sellenium을 사용하였다.\n",
    "\n",
    "![image.png](attachment:image.png)"
   ]
  },
  {
   "cell_type": "markdown",
   "metadata": {},
   "source": [
    "## 4. 구현 내용 계획설명"
   ]
  },
  {
   "cell_type": "markdown",
   "metadata": {},
   "source": [
    "### 1) 여러 개의 직구 사이트를 통해 패션 브랜드의 목록들을 모은다.  \n",
    "세계적으로 명품시장의 구매범위가 확대됨에 따라 Matchesfashion, END, Farfetch, MYTHERESA, YOOX 등의 부띠끄 직구 사이트가 급부상하고 있다. 유행하는 패션의 스타일에 따라 인기있는 브랜드들이 공통적으로 나타나기 마련이다. 따라서 우선적으로 여러 개의 사이트들에서 취급하고 있는 공통적인 브랜드를 중심으로 프로그램을 진행할 예정이다. 브랜드 이름들을 읽어온 뒤 검색어 리스트를 생성하여 저장한다. 주요 브랜드 목록은 앞서 서술한 Catchfashion.com에서 크롤링을 할 예정이다.  \n",
    "\n",
    "[기본 도메인]  \n",
    "Matchesfashion | https://www.matchesfashion.com/kr/mens  \n",
    "Farfetch | https://www.farfetch.com/kr/shopping/men/items.aspx  \n",
    "ssense | https://www.ssense.com/en-us/men  \n",
    "Mytheresa | https://www.mytheresa.com/ko-kr/men.html  \n",
    "END | https://www.endclothing.com/kr  \n",
    "24s | https://www.24s.com/en-kr/men  \n",
    "MrPorter | https://www.mrporter.com/en-kr/  \n",
    "\n",
    "\n",
    "![1](img/크롤링실패1.png\")\n",
    "\n",
    "사진에서와 같이 주석처리 한 곳처럼 실행하고자했는데 div main까지만 읽혀오고 그 하위 항목들을 검색하면 None으로 읽히지 않아서 며칠째 난항을 겪고있는 중이다.  \n",
    "  \n",
    "<해결 : Beautifulsoup만 쓸 땐 해결이 안됐지만 selenium과 chromedriver을 섞어서 사용하니 해결이 되었다>  \n",
    "![2](img/popularbrand.png\")  \n",
    "\n",
    "  \n",
    "catchfashion을 통해 popular_brand를 크롤링하는데 문제가 생겼었다. 화면을 어느 정도 축소하는지에 따라 html을 열었을 때 div class로 보이는지, img 태그로 보이는지 달라졌기때문에 한 쪽을 선택해야했다. img태그 안의 text로 읽어왔을 때 일관성이 있던 것 같아 결국 성공했다.\n",
    "![15](img/imgAlt.png)\n",
    "  \n",
    "이제 인기 브랜드의 목록을 정하였다.  \n",
    "이제 각 사이트마다의 브랜드 목록을 가져오고 모든 사이트의 공통된 브랜드의 목록을 추릴 차례이다. 하지만 각 사이트마다의 HTML구성이 다르기 때문에 크롤링 방식을 다르게 할 필요가 있었다. 기본적으로 html을 parsing해서 가져오는 방식은 같다. \n",
    "  \n",
    "![16](img/source.png)\n",
    "  \n",
    "이러한 방식으로 6개의 사이트들마다 브랜드 크롤링을 실행시켰다. 다만, 각각의 사이트마다 태그를 다르게(a 태그, div 태그 등) 설정하였기때문에 모두 분석해보아야했다. \n",
    "  \n",
    "브랜드 리스트를 가져오는데 chromedriver를 실행시킨 새 창이 굳이 필요하지 않기때문에 option으로 넣어주었다.  \n",
    "![3](img/browserclose.png\")\n",
    "  \n",
    "때로는 줄바꿈 문자열까지 인식이 되어버려 parsing을 할 필요도 있었다.\n",
    "  \n",
    "![4](img/parcing.png\")\n",
    "  \n",
    "#### 결론적으로 총 6개의 사이트로부터 각각의 취급 브랜드 목록을 가져왔다.  \n",
    "  \n",
    "#### 1  \n",
    "![9](img/B1.png\")\n",
    "#### 2  \n",
    "![10](img/B2.png\")\n",
    "#### 3  \n",
    "![11](img/B3.png\")\n",
    "#### 4  \n",
    "![12](img/B4.png\")\n",
    "#### 5  \n",
    "![13](img/B5.png\")\n",
    "#### 6  \n",
    "![14](img/B6.png\")  \n",
    "  \n",
    "  \n",
    "### 2) 직구 사이트별로 쇼핑 카테고리가 비슷하지만 구성이 약간 다른 경우가 있다. 이를 위해서는 미리 코드를 커스터마이징 해놔야 할 필요가 있다.   \n",
    "  \n",
    "예를 들면, Matchesfashion 이나 Farfetch같은 곳에는 Bag 섹션이 따로 있지만 END에서는 Accessory 하위 항목으로 Bag이 존재한다. \n",
    "\n",
    "최종적으로 만들 카테고리는 의류, 슈즈, 가방, 액세서리로 할 계획이다.    \n",
    "조사한 결과, 각 쇼핑몰마다 아래와 같은 패턴의 url로 설정되어있다.\n",
    "  \n",
    "![5](img/categoryPattern.png)\n",
    "  \n",
    "따라서 특징적으로 주소가 바뀌거나 악세서리 하위항목으로 가방이 들어가있는 경우는 아래와 같이 별도로 수정작업을 해주었다.  \n",
    "\n",
    "![17](img/add1.png)\n",
    "![18](img/add2.png)\n",
    "  \n",
    "   \n",
    "### 3) 같은 브랜드를 검색하더라도 각 사이트마다 주소값이 달라지게 된다. 이를 위한 브랜드 이름 수정작업 단계  \n",
    "\n",
    "단순히 사이트메인주소/kr/브랜드이름 으로 통일이 된다면 좋겠지만 실행을 해보니 page not found 404 에러가 뜨게 된다.  \n",
    "  \n",
    "예시) Acne Studios로 검색했을 때 :  \n",
    "Matchesfashion | https://www.matchesfashion.com/kr/mens/designers/acne-studios   \n",
    "Farfetch | https://www.farfetch.com/kr/shopping/men/acne-studios/items.aspx  \n",
    "ssense | https://www.ssense.com/en-us/men/designers/acne-studios  \n",
    "MYTHERESA | https://www.mytheresa.com/en-kr/men/designers/acne-studios.html  \n",
    "END | https://www.endclothing.com/kr/brands/acne  \n",
    "mrporter | https://www.mrporter.com/en-kr/mens/designer/acne-studios  \n",
    "  \n",
    "\n",
    "한 단어의 브랜드일 때와 두 단어 이상의 브랜드일 때 어떻게 주소가 바뀌게 되는지 파악해야한다. 브랜드의 이름을 읽어온 뒤, 문자열 안에 공백이 존재한다면 공백을 '-'로 채워야했다. 또한, 불규칙적으로 어떤 브랜드는 약어를 사용하기도 했고, 소문자로 처리하는 것도 필요했다.\n",
    "![6](img/custom.png)  \n",
    "  \n",
    "\n",
    "### 4) GUI 생성   \n",
    "\n",
    "##### import library\n",
    "![16](img/GUILIB.png)  \n",
    "Python tkinter 라이브러리를 이용하여 프로그램창을 띄우고 그 안에 사용자가 선택할 수 있는 버튼을 만든다. 사용자가 브랜드를 선택하기 위해서는 브랜드 리스트로 이루어진 콤보박스와 선택한 브랜드의 카테고리(의류, 신발, 가방, 액세서리) 콤보박스를 만들었다. 사용자가 브랜드와 카테고리를 선택하고나면 이제 버튼을 누르게 된다. 실행버튼을 누르게 되면 Matchesfashion, Farfetch, ssense, Mytheresa 그리고 Mr.Porter 사이트의 해당 브랜드의 해당 카테고리 페이자가 하나의 창에 여러 개의 탭으로 한번에 뜨게 된다. 평소대로였다면 각 사이트마다 브랜드를 선택하고 스크롤해서 카테고리를 선택하고 또 닫고 다시 다른 사이트로 가서 브랜드를 선택하고 카테고리를 누르는 일을 해야 했었다. 프로그램을 이렇게 제작하고 실행함으로써 세 번의 클릭으로 한 번에 해결할 수 있는 편리함을 갖추게 되었다. \n",
    "![17](img/GUI.png)  \n",
    "GUI 생성에 있어서 여러 개의 함수를 만들었는데 하나의 함수의 리턴값이 다른 함수의 파라미터로 쓰여야했기 때문에 class로 구조화하였다.  \n",
    "Combobox에서 선택한 브랜드, 카테고리를 앞의 3)의 수정단계로 전달해주어 주소값 생성을 할 때 class의 장점이 나타난다. 단순히 Topdown 방식으로 코드가 실행되는 것이 아니라 내려갔다가 다시 상위단계로 올라가는 것이 필요하기 때문에 class 를 사용해야한다.  \n",
    "  \n",
    "### 5)  프로그램 실행(5.결론으로 이어짐)\n",
    "  \n",
    "##### 실행화면(1)      \n",
    "![7](img/GUI_1.png) \n",
    "  \n",
    "주황색으로 네모를 만든 부분을 보면 한 번에 여러페이지가 실행됨을 알 수 있다.  이렇게 한다면, 사이트마다 엄청나게 긴 목록 중의 브랜드를 누르고, 카테고리를 찾고 하는 과정을 줄일 수 있다. \n",
    "  \n",
    "##### 실행화면(2)  \n",
    "![8](img/result.png)  \n",
    "  \n",
    "\n",
    "  \n"
   ]
  },
  {
   "cell_type": "markdown",
   "metadata": {},
   "source": [
    "## 5. 결론\n",
    "\n",
    "개인적으로 파이썬을 처음 배우고 처음 뭔가를 만들어보는 것에 가장 큰 의미가 있었다. 주어진 주제로 따라가는 것이 아니라, 개인적으로 의미있고 취미생활을 편리하게 할 수 있었던 프로그램 제작 시간이었다. 지나고 보았을 때 어떻게 보면 간단한 코드들일 수 있고, 단순 작업일 수 있겠지만 수업시간에 배웠던 html 태그와 구조들을 분석하고 응용하여 내 것으로 만드는데 쓸 수 있어서 큰 발전이었다고 생각한다.  \n",
    "class의 개념을 알기는 했지만 어떤 것을 class로 만들고 구조화하는지 감이 전혀 오지 않았는데 여러가지의 함수들을 만드는데 있어서 중복되는 변수나 개념이 있었기에 class의 실질적인 장점을 몸소 느낄 수 있었다.  \n",
    "가장 시간과 노력이 오래걸린 부분은 사이트들 마다 브랜드의 태그의 위치를 찾는 부분이었다. 그리고 사이트들마다 브랜드 페이지에 해당하는 주소를 다소 불규칙적으로 정해놓았기때문에 이동 주소값을 조건문을 통해 개별적으로 수정하는 것이 매우 어려웠다.\n",
    "GUI 생성 마지막 버튼 부분의 chromedriver를 이용하는 메소드를 command하는 부분이 있는데 그 부분이 일반적인 함수를 사용하면 GUI 창이 뜨기도 전에 chrome이 실행되어 난해한 일이 있었다. runtime시에 일시적으로 사용되는 lambda식이 왜 필요한지 프로그램 구현하는데 있어서 처음 배우게 되었다. 아주 값진 순간이었다. "
   ]
  },
  {
   "cell_type": "markdown",
   "metadata": {},
   "source": [
    "## 6. 참고"
   ]
  },
  {
   "cell_type": "markdown",
   "metadata": {},
   "source": [
    "https://docs.python.org/ko/3/library/urllib.parse.html  \n",
    "Matchesfashion | https://www.matchesfashion.com/kr/mens  \n",
    "Farfetch | https://www.farfetch.com/kr/shopping/men/items.aspx  \n",
    "ssense | https://www.ssense.com/en-us/men  \n",
    "Mytheresa | https://www.mytheresa.com/ko-kr/men.html  \n",
    "END | https://www.endclothing.com/kr  \n",
    "24s | https://www.24s.com/en-kr/men  \n",
    "MrPorter | https://www.mrporter.com/en-kr/  "
   ]
  },
  {
   "cell_type": "code",
   "execution_count": null,
   "metadata": {},
   "outputs": [],
   "source": []
  }
 ],
 "metadata": {
  "kernelspec": {
   "display_name": "Python 3",
   "language": "python",
   "name": "python3"
  },
  "language_info": {
   "codemirror_mode": {
    "name": "ipython",
    "version": 3
   },
   "file_extension": ".py",
   "mimetype": "text/x-python",
   "name": "python",
   "nbconvert_exporter": "python",
   "pygments_lexer": "ipython3",
   "version": "3.7.1"
  }
 },
 "nbformat": 4,
 "nbformat_minor": 2
}
